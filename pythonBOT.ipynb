{
 "cells": [
  {
   "cell_type": "code",
   "execution_count": null,
   "id": "48d12660-4619-4fa3-8cde-644c7e44442c",
   "metadata": {},
   "outputs": [],
   "source": [
    "import nltk\n",
    "nltk.download('punkt')\n",
    "nltk.download('wordnet')\n",
    "nltk.download('omw-1.4')"
   ]
  },
  {
   "cell_type": "code",
   "execution_count": null,
   "id": "598ed17e-3c6e-4a82-b92b-cfc0228e9972",
   "metadata": {},
   "outputs": [
    {
     "name": "stdin",
     "output_type": "stream",
     "text": [
      "What do you want to do? (type 'exit' to quit):  max method\n"
     ]
    },
    {
     "name": "stdout",
     "output_type": "stream",
     "text": [
      "❌ Sorry I couldn't find a method.\n"
     ]
    },
    {
     "name": "stdin",
     "output_type": "stream",
     "text": [
      "What do you want to do? (type 'exit' to quit):  append\n"
     ]
    },
    {
     "name": "stdout",
     "output_type": "stream",
     "text": [
      "\n",
      "✅ The best Python method for your need is: list.append()\n",
      "📌 Example usage:\n",
      "my_list = [1, 2]\n",
      "my_list.append(3)  # now it's [1, 2, 3]\n"
     ]
    },
    {
     "name": "stdin",
     "output_type": "stream",
     "text": [
      "What do you want to do? (type 'exit' to quit):  I want the maximum number\n"
     ]
    },
    {
     "name": "stdout",
     "output_type": "stream",
     "text": [
      "\n",
      "✅ The best Python method for your need is: max()\n",
      "📌 Example usage:\n",
      "max([1, 5, 3])  # returns 5\n"
     ]
    }
   ],
   "source": [
    "\n",
    "from nltk.corpus import wordnet\n",
    "from nltk.tokenize import word_tokenize\n",
    "\n",
    "# مرادفات\n",
    "keyword_aliases = {\n",
    "    \"append\": [\"append\", \"add\", \"push\"],\n",
    "    \"max\": [\"maximum\", \"largest\", \"biggest\", \"highest\"],\n",
    "    \"min\": [\"minimum\", \"smallest\", \"lowest\"],\n",
    "    \"len\": [\"length\", \"size\", \"count letters\", \"characters\"],\n",
    "    \"sort\": [\"sort\", \"order\", \"arrange\"],\n",
    "    \"reverse\": [\"reverse\", \"flip\", \"backwards\"],\n",
    "    \"sqrt\": [\"square root\", \"root\", \"sqrt\"],\n",
    "    \"join\": [\"join\", \"combine\", \"merge strings\"]\n",
    "}\n",
    "\n",
    "# الميثودات\n",
    "method_map = {\n",
    "    \"maximum\": (\"max()\", \"max([1, 5, 3])  # returns 5\"),\n",
    "    \"minimum\": (\"min()\", \"min([1, 5, 3])  # returns 1\"),\n",
    "    \"length\": (\"len()\", \"len('hello')  # returns 5\"),\n",
    "    \"sort\": (\"list.sort()\", \"[3, 1, 2].sort()  # returns [1, 2, 3]\"),\n",
    "    \"reverse\": (\"reverse()\", \"[1, 2, 3][::-1]  # returns [3, 2, 1]\"),\n",
    "    \"square\": (\"**\", \"x = 4\\nx ** 2  # returns 16\"),\n",
    "    \"sqrt\": (\"math.sqrt()\", \"import math\\nmath.sqrt(25)  # returns 5.0\"),\n",
    "    \"join\": (\"join()\", \"'-'.join(['a', 'b'])  # returns 'a-b'\"),\n",
    "    \"count\": (\"list.count()\", \"[1,2,2].count(2)  # returns 2\"),\n",
    "    \"split\": (\"split()\", \"'hello world'.split()  # returns ['hello', 'world']\"),\n",
    "    \"append\": (\"list.append()\", \"my_list = [1, 2]\\nmy_list.append(3)  # now it's [1, 2, 3]\"),\n",
    "    \"add\": (\"list.append()\", \"my_list.append(3)  # adds 3 to the end\"),\n",
    "    \"push\": (\"list.append()\", \"stack.append(item)  # add item to stack\")\n",
    "}\n",
    "\n",
    "while True:\n",
    "    request = input(\"What do you want to do? (type 'exit' to quit): \").lower()\n",
    "    if request == \"exit\":\n",
    "        break\n",
    "\n",
    "    found = False\n",
    "\n",
    "   \n",
    "    for key in method_map:\n",
    "        if key in request:\n",
    "            method, example = method_map[key]\n",
    "            print(f\"\\n The best Python method for your need is: {method}\")\n",
    "              print(\" Example usage:\\n\" + example)\n",
    "            found = True\n",
    "            break\n",
    "\n",
    "    \n",
    "    if not found:\n",
    "        x = word_tokenize(request)\n",
    "        for word in x:\n",
    "            synsets = wordnet.synsets(word)\n",
    "            for syn in synsets:\n",
    "                lemma = syn.lemmas()[0].name().lower()\n",
    "                for key in method_map:\n",
    "                    if key in lemma or lemma in key:\n",
    "                        method, example = method_map[key]\n",
    "                        print(f\"\\n The best Python method for your need is: {method}\")\n",
    "                        print(\" Example of how to use it:\")\n",
    "                        print(example)\n",
    "                        found = True\n",
    "                        break\n",
    "                if found:\n",
    "                    break\n",
    "            if found:\n",
    "                break\n",
    "\n",
    "    if not found:\n",
    "        print(\" Sorry I couldn't find a method.\")"
   ]
  },
  {
   "cell_type": "code",
   "execution_count": null,
   "id": "e6848a41-3691-4344-a7e2-8b8f19b96e5a",
   "metadata": {},
   "outputs": [],
   "source": []
  }
 ],
 "metadata": {
  "kernelspec": {
   "display_name": "Python 3 (ipykernel)",
   "language": "python",
   "name": "python3"
  },
  "language_info": {
   "codemirror_mode": {
    "name": "ipython",
    "version": 3
   },
   "file_extension": ".py",
   "mimetype": "text/x-python",
   "name": "python",
   "nbconvert_exporter": "python",
   "pygments_lexer": "ipython3",
   "version": "3.12.4"
  }
 },
 "nbformat": 4,
 "nbformat_minor": 5
}
